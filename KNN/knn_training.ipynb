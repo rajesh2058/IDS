{
 "cells": [
  {
   "cell_type": "code",
   "execution_count": 1,
   "id": "e5d233f2-5522-49a3-885e-5799b2e9b8ed",
   "metadata": {},
   "outputs": [],
   "source": [
    "import pandas as pd\n",
    "import numpy as np\n",
    "import joblib\n",
    "from sklearn.preprocessing import LabelEncoder, StandardScaler\n",
    "from sklearn.neighbors import KNeighborsClassifier\n",
    "from sklearn.model_selection import GridSearchCV\n",
    "import pickle"
   ]
  },
  {
   "cell_type": "code",
   "execution_count": 2,
   "id": "0e913d7c-5e13-4530-9552-cb6fee93a4fc",
   "metadata": {},
   "outputs": [],
   "source": [
    "# Load the training data\n",
    "try:\n",
    "    train_data = pd.read_csv('/IntrusionDetection_ML/KNN/datasets/KDDTrain+.txt', header=None)\n",
    "except FileNotFoundError:\n",
    "    print(\"Training file not found. Please check the file path and try again.\")\n",
    "    exit(1)"
   ]
  },
  {
   "cell_type": "code",
   "execution_count": 3,
   "id": "41cddcee-fe6f-4afe-be1b-cd470cf55f97",
   "metadata": {},
   "outputs": [],
   "source": [
    "# Define columns\n",
    "columns = [\n",
    "    'duration', 'protocol_type', 'service', 'flag', 'src_bytes', 'dst_bytes',\n",
    "    'land', 'wrong_fragment', 'urgent', 'hot', 'num_failed_logins', 'logged_in',\n",
    "    'num_compromised', 'root_shell', 'su_attempted', 'num_root', 'num_file_creations',\n",
    "    'num_shells', 'num_access_files', 'num_outbound_cmds', 'is_host_login',\n",
    "    'is_guest_login', 'count', 'srv_count', 'serror_rate', 'srv_serror_rate',\n",
    "    'rerror_rate', 'srv_rerror_rate', 'same_srv_rate', 'diff_srv_rate', 'srv_diff_host_rate',\n",
    "    'dst_host_count', 'dst_host_srv_count', 'dst_host_same_srv_rate', 'dst_host_diff_srv_rate',\n",
    "    'dst_host_same_src_port_rate', 'dst_host_srv_diff_host_rate', 'dst_host_serror_rate',\n",
    "    'dst_host_srv_serror_rate', 'dst_host_rerror_rate', 'dst_host_srv_rerror_rate', 'attack', 'level'\n",
    "]\n",
    "train_data.columns = columns"
   ]
  },
  {
   "cell_type": "code",
   "execution_count": 4,
   "id": "d5f1d7d7-0562-4e80-8d0c-df5fd229d432",
   "metadata": {},
   "outputs": [],
   "source": [
    "# Label encode categorical features\n",
    "label_encoders = {}\n",
    "for col in ['protocol_type', 'service', 'flag']:\n",
    "    le = LabelEncoder()\n",
    "    train_data[col] = le.fit_transform(train_data[col])\n",
    "    label_encoders[col] = le"
   ]
  },
  {
   "cell_type": "code",
   "execution_count": 5,
   "id": "61d66fb1-65c2-4f0f-a771-eb6bedaffb51",
   "metadata": {},
   "outputs": [],
   "source": [
    "# Binary classification for 'attack' column\n",
    "train_data['attack'] = train_data['attack'].apply(lambda x: 0 if x == 'normal' else 1)\n"
   ]
  },
  {
   "cell_type": "code",
   "execution_count": 6,
   "id": "f12bd7d2-dcbf-4434-a49f-b11cede4abfd",
   "metadata": {},
   "outputs": [],
   "source": [
    "# Split features and target\n",
    "X_train = train_data.drop(['attack'], axis=1)\n",
    "y_train = train_data['attack']"
   ]
  },
  {
   "cell_type": "code",
   "execution_count": 7,
   "id": "1ba41cf7-a41a-4de3-8700-f783e7291208",
   "metadata": {},
   "outputs": [],
   "source": [
    "#Standardize the data\n",
    "scaler = StandardScaler()\n",
    "X_train = scaler.fit_transform(X_train)"
   ]
  },
  {
   "cell_type": "code",
   "execution_count": 8,
   "id": "ff128540-b6b9-43ea-b9e1-f3319aae39f5",
   "metadata": {},
   "outputs": [],
   "source": [
    "# KNN Classifier with GridSearchCV\n",
    "param_grid = {\n",
    "    'n_neighbors': [5, 10, 20],\n",
    "    'weights': ['uniform', 'distance'],\n",
    "    'metric': ['euclidean', 'manhattan']\n",
    "}"
   ]
  },
  {
   "cell_type": "code",
   "execution_count": 9,
   "id": "8ff988b9-a707-41c4-be9c-e4ddd30bcaf6",
   "metadata": {},
   "outputs": [
    {
     "name": "stdout",
     "output_type": "stream",
     "text": [
      "Fitting 5 folds for each of 12 candidates, totalling 60 fits\n",
      "[CV] END ...metric=euclidean, n_neighbors=5, weights=uniform; total time=  15.2s\n",
      "[CV] END ...metric=euclidean, n_neighbors=5, weights=uniform; total time=  14.2s\n",
      "[CV] END ...metric=euclidean, n_neighbors=5, weights=uniform; total time=  13.4s\n",
      "[CV] END ...metric=euclidean, n_neighbors=5, weights=uniform; total time=  15.0s\n",
      "[CV] END ...metric=euclidean, n_neighbors=5, weights=uniform; total time=  12.3s\n",
      "[CV] END ..metric=euclidean, n_neighbors=5, weights=distance; total time=  10.9s\n",
      "[CV] END ..metric=euclidean, n_neighbors=5, weights=distance; total time=  14.0s\n",
      "[CV] END ..metric=euclidean, n_neighbors=5, weights=distance; total time=  16.2s\n",
      "[CV] END ..metric=euclidean, n_neighbors=5, weights=distance; total time=  15.5s\n",
      "[CV] END ..metric=euclidean, n_neighbors=5, weights=distance; total time=  16.8s\n",
      "[CV] END ..metric=euclidean, n_neighbors=10, weights=uniform; total time=  17.7s\n",
      "[CV] END ..metric=euclidean, n_neighbors=10, weights=uniform; total time=  19.0s\n",
      "[CV] END ..metric=euclidean, n_neighbors=10, weights=uniform; total time=  14.0s\n",
      "[CV] END ..metric=euclidean, n_neighbors=10, weights=uniform; total time=  13.7s\n",
      "[CV] END ..metric=euclidean, n_neighbors=10, weights=uniform; total time=  13.8s\n",
      "[CV] END .metric=euclidean, n_neighbors=10, weights=distance; total time=  13.6s\n",
      "[CV] END .metric=euclidean, n_neighbors=10, weights=distance; total time=  14.7s\n",
      "[CV] END .metric=euclidean, n_neighbors=10, weights=distance; total time=  11.7s\n",
      "[CV] END .metric=euclidean, n_neighbors=10, weights=distance; total time=  12.0s\n",
      "[CV] END .metric=euclidean, n_neighbors=10, weights=distance; total time=  17.0s\n",
      "[CV] END ..metric=euclidean, n_neighbors=20, weights=uniform; total time=  19.6s\n",
      "[CV] END ..metric=euclidean, n_neighbors=20, weights=uniform; total time=  18.7s\n",
      "[CV] END ..metric=euclidean, n_neighbors=20, weights=uniform; total time=  20.6s\n",
      "[CV] END ..metric=euclidean, n_neighbors=20, weights=uniform; total time=  15.5s\n",
      "[CV] END ..metric=euclidean, n_neighbors=20, weights=uniform; total time=  13.3s\n",
      "[CV] END .metric=euclidean, n_neighbors=20, weights=distance; total time=  16.0s\n",
      "[CV] END .metric=euclidean, n_neighbors=20, weights=distance; total time=  14.9s\n",
      "[CV] END .metric=euclidean, n_neighbors=20, weights=distance; total time=  13.3s\n",
      "[CV] END .metric=euclidean, n_neighbors=20, weights=distance; total time=  13.5s\n",
      "[CV] END .metric=euclidean, n_neighbors=20, weights=distance; total time=  13.2s\n",
      "[CV] END ...metric=manhattan, n_neighbors=5, weights=uniform; total time= 1.3min\n",
      "[CV] END ...metric=manhattan, n_neighbors=5, weights=uniform; total time= 1.6min\n",
      "[CV] END ...metric=manhattan, n_neighbors=5, weights=uniform; total time= 1.5min\n",
      "[CV] END ...metric=manhattan, n_neighbors=5, weights=uniform; total time= 1.5min\n",
      "[CV] END ...metric=manhattan, n_neighbors=5, weights=uniform; total time= 1.4min\n"
     ]
    }
   ],
   "source": [
    "grid = GridSearchCV(KNeighborsClassifier(), param_grid, cv=5, verbose=2)\n",
    "grid.fit(X_train, y_train)"
   ]
  },
  {
   "cell_type": "code",
   "execution_count": 14,
   "id": "f93bf4db-f0f0-472c-9073-353999c387e3",
   "metadata": {},
   "outputs": [],
   "source": [
    "# Save the trained model\n",
    "with open('knn_model.pkl', 'wb') as f:\n",
    "    pickle.dump(grid.best_estimator_, f)"
   ]
  },
  {
   "cell_type": "code",
   "execution_count": 15,
   "id": "480f7a0a-f894-47c6-8e92-d7dcf512f1d9",
   "metadata": {},
   "outputs": [],
   "source": [
    "# Save the scaler for use in testing\n",
    "with open('scaler.pkl', 'wb') as f:\n",
    "    pickle.dump(scaler, f)"
   ]
  },
  {
   "cell_type": "code",
   "execution_count": 16,
   "id": "fac73b0a-36d0-4347-882d-768223dac4bf",
   "metadata": {},
   "outputs": [
    {
     "name": "stdout",
     "output_type": "stream",
     "text": [
      "Best Parameters: {'metric': 'manhattan', 'n_neighbors': 5, 'weights': 'distance'}\n",
      "Best Cross-Validation Score: 0.999158552494323\n"
     ]
    }
   ],
   "source": [
    "print(\"Best Parameters:\", grid.best_params_)\n",
    "print(\"Best Cross-Validation Score:\", grid.best_score_)"
   ]
  },
  {
   "cell_type": "code",
   "execution_count": 17,
   "id": "6e0f1944-bdbc-4708-8903-1d711fe41cad",
   "metadata": {},
   "outputs": [
    {
     "name": "stdout",
     "output_type": "stream",
     "text": [
      "Model trained and saved successfully.\n"
     ]
    }
   ],
   "source": [
    "print(\"Model trained and saved successfully.\")\n"
   ]
  }
 ],
 "metadata": {
  "kernelspec": {
   "display_name": "Python 3 (ipykernel)",
   "language": "python",
   "name": "python3"
  },
  "language_info": {
   "codemirror_mode": {
    "name": "ipython",
    "version": 3
   },
   "file_extension": ".py",
   "mimetype": "text/x-python",
   "name": "python",
   "nbconvert_exporter": "python",
   "pygments_lexer": "ipython3",
   "version": "3.12.6"
  }
 },
 "nbformat": 4,
 "nbformat_minor": 5
}
